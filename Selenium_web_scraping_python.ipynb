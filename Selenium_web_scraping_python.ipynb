{
  "nbformat": 4,
  "nbformat_minor": 0,
  "metadata": {
    "colab": {
      "provenance": []
    },
    "kernelspec": {
      "name": "python3",
      "display_name": "Python 3"
    },
    "language_info": {
      "name": "python"
    }
  },
  "cells": [
    {
      "cell_type": "code",
      "source": [
        "#pip install selenium"
      ],
      "metadata": {
        "id": "YBBgRRsuYBAf"
      },
      "execution_count": 4,
      "outputs": []
    },
    {
      "cell_type": "code",
      "source": [
        "!apt-get update"
      ],
      "metadata": {
        "id": "RjOYbMVawJt-"
      },
      "execution_count": null,
      "outputs": []
    },
    {
      "cell_type": "code",
      "source": [
        "!apt-get install -y chromium-browser"
      ],
      "metadata": {
        "id": "JvqubTeUwkHy"
      },
      "execution_count": null,
      "outputs": []
    },
    {
      "cell_type": "code",
      "source": [
        "!apt install chromium-chromedriver"
      ],
      "metadata": {
        "id": "YKMhXqAvw2pH"
      },
      "execution_count": null,
      "outputs": []
    },
    {
      "cell_type": "code",
      "source": [
        "from selenium import webdriver"
      ],
      "metadata": {
        "id": "JXKZDsl9xb35"
      },
      "execution_count": 13,
      "outputs": []
    },
    {
      "cell_type": "code",
      "source": [
        "from selenium.webdriver.common.by import By"
      ],
      "metadata": {
        "id": "4W7vcfR4zBnv"
      },
      "execution_count": 17,
      "outputs": []
    },
    {
      "cell_type": "code",
      "source": [
        "!ls /usr/lib/chromium-browser/chromedriver"
      ],
      "metadata": {
        "colab": {
          "base_uri": "https://localhost:8080/"
        },
        "id": "4PdRSlJdxgF9",
        "outputId": "2d689111-2feb-4376-cbf5-89dd078feec4"
      },
      "execution_count": 16,
      "outputs": [
        {
          "output_type": "stream",
          "name": "stdout",
          "text": [
            "chromedriver\n"
          ]
        }
      ]
    },
    {
      "cell_type": "code",
      "source": [
        "options = webdriver.ChromeOptions()\n",
        "options.add_argument('--no-sandbox')\n",
        "options.add_argument('--headless')\n",
        "options.add_argument('--disable-gpu')\n",
        "options.add_argument('--diable-dve-shm-uage')"
      ],
      "metadata": {
        "id": "lidGzirQxgID"
      },
      "execution_count": 18,
      "outputs": []
    },
    {
      "cell_type": "code",
      "source": [
        "from selenium.webdriver.chrome.service import Service\n",
        "service = Service(executable_path='/usr/lib/chromium-browser/chromedriver')"
      ],
      "metadata": {
        "id": "ix5-G0ST0q84"
      },
      "execution_count": 20,
      "outputs": []
    },
    {
      "cell_type": "code",
      "source": [
        "driver = webdriver.Chrome(options = options)"
      ],
      "metadata": {
        "id": "Hc8le3h91fW7"
      },
      "execution_count": 23,
      "outputs": []
    },
    {
      "cell_type": "code",
      "source": [
        "driver = webdriver.Chrome(service=service, options = options)"
      ],
      "metadata": {
        "id": "w_8DhO5AX2Op"
      },
      "execution_count": null,
      "outputs": []
    },
    {
      "cell_type": "code",
      "source": [
        "driver.get('https://quotes.toscrape.com/')"
      ],
      "metadata": {
        "id": "YpI4WAFzX2as"
      },
      "execution_count": 24,
      "outputs": []
    },
    {
      "cell_type": "code",
      "source": [
        "ele = driver.find_element(By.CSS_SELECTOR, 'p')\n",
        "print(ele.text)"
      ],
      "metadata": {
        "colab": {
          "base_uri": "https://localhost:8080/"
        },
        "id": "ZnI5y3CZ5C8E",
        "outputId": "0af42be1-c16e-4f53-d8ef-ba06adea46ee"
      },
      "execution_count": 39,
      "outputs": [
        {
          "output_type": "stream",
          "name": "stdout",
          "text": [
            "Login\n"
          ]
        }
      ]
    },
    {
      "cell_type": "code",
      "source": [
        "ele = driver.find_elements(By.CSS_SELECTOR, 'h1')"
      ],
      "metadata": {
        "id": "uTrF5ul63aeI"
      },
      "execution_count": 42,
      "outputs": []
    },
    {
      "cell_type": "code",
      "source": [
        "for x in ele:\n",
        "  print(x.text)"
      ],
      "metadata": {
        "colab": {
          "base_uri": "https://localhost:8080/"
        },
        "id": "zveB7GO04v32",
        "outputId": "be8f0dfd-bbb7-4fb1-c913-107b5533e839"
      },
      "execution_count": 43,
      "outputs": [
        {
          "output_type": "stream",
          "name": "stdout",
          "text": [
            "Quotes to Scrape\n"
          ]
        }
      ]
    },
    {
      "cell_type": "code",
      "source": [
        "ele = driver.find_elements(By.XPATH, '//div[@class=\"container\"]') #'//div[@class=\"quote\"]'\n",
        "for x in ele:\n",
        "  print(x.text)"
      ],
      "metadata": {
        "colab": {
          "base_uri": "https://localhost:8080/"
        },
        "id": "kK9Zp_5ZX2wS",
        "outputId": "972ecb2f-8d83-4300-c78d-3a9d070c086f"
      },
      "execution_count": 52,
      "outputs": [
        {
          "output_type": "stream",
          "name": "stdout",
          "text": [
            "Quotes to Scrape\n",
            "Login\n",
            "“The world as we have created it is a process of our thinking. It cannot be changed without changing our thinking.”\n",
            "by Albert Einstein (about)\n",
            "Tags: change deep-thoughts thinking world\n",
            "“It is our choices, Harry, that show what we truly are, far more than our abilities.”\n",
            "by J.K. Rowling (about)\n",
            "Tags: abilities choices\n",
            "“There are only two ways to live your life. One is as though nothing is a miracle. The other is as though everything is a miracle.”\n",
            "by Albert Einstein (about)\n",
            "Tags: inspirational life live miracle miracles\n",
            "“The person, be it gentleman or lady, who has not pleasure in a good novel, must be intolerably stupid.”\n",
            "by Jane Austen (about)\n",
            "Tags: aliteracy books classic humor\n",
            "“Imperfection is beauty, madness is genius and it's better to be absolutely ridiculous than absolutely boring.”\n",
            "by Marilyn Monroe (about)\n",
            "Tags: be-yourself inspirational\n",
            "“Try not to become a man of success. Rather become a man of value.”\n",
            "by Albert Einstein (about)\n",
            "Tags: adulthood success value\n",
            "“It is better to be hated for what you are than to be loved for what you are not.”\n",
            "by André Gide (about)\n",
            "Tags: life love\n",
            "“I have not failed. I've just found 10,000 ways that won't work.”\n",
            "by Thomas A. Edison (about)\n",
            "Tags: edison failure inspirational paraphrased\n",
            "“A woman is like a tea bag; you never know how strong it is until it's in hot water.”\n",
            "by Eleanor Roosevelt (about)\n",
            "Tags: misattributed-eleanor-roosevelt\n",
            "“A day without sunshine is like, you know, night.”\n",
            "by Steve Martin (about)\n",
            "Tags: humor obvious simile\n",
            "Next →\n",
            "Top Ten tags\n",
            "love\n",
            "inspirational\n",
            "life\n",
            "humor\n",
            "books\n",
            "reading\n",
            "friendship\n",
            "friends\n",
            "truth\n",
            "simile\n",
            "Quotes by: GoodReads.com\n",
            "Made with ❤ by Zyte\n"
          ]
        }
      ]
    }
  ]
}